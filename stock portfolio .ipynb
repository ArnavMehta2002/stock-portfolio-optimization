{
 "cells": [
  {
   "cell_type": "code",
   "execution_count": 36,
   "id": "5c74232e",
   "metadata": {},
   "outputs": [],
   "source": [
    "#import the python libraries\n",
    "import pandas as pd\n",
    "import numpy as np\n",
    "import yfinance as yf\n",
    "from yahoo_fin import stock_info as si\n",
    "import matplotlib.colors as mcolors\n",
    "import matplotlib.pyplot as plt\n",
    "\n",
    "plt.style.use(\"dark_background\")"
   ]
  },
  {
   "cell_type": "code",
   "execution_count": 35,
   "id": "1ad6f57a",
   "metadata": {},
   "outputs": [
    {
     "ename": "KeyError",
     "evalue": "'sector'",
     "output_type": "error",
     "traceback": [
      "\u001b[1;31m---------------------------------------------------------------------------\u001b[0m",
      "\u001b[1;31mKeyError\u001b[0m                                  Traceback (most recent call last)",
      "\u001b[1;32m<ipython-input-35-5d17daea62dc>\u001b[0m in \u001b[0;36m<module>\u001b[1;34m\u001b[0m\n\u001b[0;32m     19\u001b[0m     \u001b[0mvalue\u001b[0m \u001b[1;33m=\u001b[0m \u001b[0mprices\u001b[0m\u001b[1;33m[\u001b[0m\u001b[0mindex\u001b[0m\u001b[1;33m]\u001b[0m \u001b[1;33m*\u001b[0m \u001b[0mamounts\u001b[0m\u001b[1;33m[\u001b[0m\u001b[0mindex\u001b[0m\u001b[1;33m]\u001b[0m\u001b[1;33m\u001b[0m\u001b[1;33m\u001b[0m\u001b[0m\n\u001b[0;32m     20\u001b[0m     \u001b[0mvalues\u001b[0m\u001b[1;33m.\u001b[0m\u001b[0mappend\u001b[0m\u001b[1;33m(\u001b[0m\u001b[0mvalue\u001b[0m\u001b[1;33m)\u001b[0m\u001b[1;33m\u001b[0m\u001b[1;33m\u001b[0m\u001b[0m\n\u001b[1;32m---> 21\u001b[1;33m     \u001b[0msector\u001b[0m \u001b[1;33m=\u001b[0m \u001b[0myf\u001b[0m\u001b[1;33m.\u001b[0m\u001b[0mTicker\u001b[0m\u001b[1;33m(\u001b[0m\u001b[0mstock\u001b[0m\u001b[1;33m)\u001b[0m\u001b[1;33m.\u001b[0m\u001b[0mget_info\u001b[0m\u001b[1;33m(\u001b[0m\u001b[1;33m)\u001b[0m\u001b[1;33m[\u001b[0m\u001b[1;34m'sector'\u001b[0m\u001b[1;33m]\u001b[0m\u001b[1;33m\u001b[0m\u001b[1;33m\u001b[0m\u001b[0m\n\u001b[0m\u001b[0;32m     22\u001b[0m     \u001b[0msectors\u001b[0m\u001b[1;33m.\u001b[0m\u001b[0mappend\u001b[0m\u001b[1;33m(\u001b[0m\u001b[0msector\u001b[0m\u001b[1;33m)\u001b[0m\u001b[1;33m\u001b[0m\u001b[1;33m\u001b[0m\u001b[0m\n\u001b[0;32m     23\u001b[0m \u001b[1;33m\u001b[0m\u001b[0m\n",
      "\u001b[1;31mKeyError\u001b[0m: 'sector'"
     ]
    }
   ],
   "source": [
    "#initializing stocks\n",
    "stocks = ['APPL', 'FB', 'TSLA', 'ABBV', 'TTCF', 'NVDA', 'CCL', 'BABA', 'NSRGY', 'OMV.VI', 'VYGVF']\n",
    "amounts = [20, 15, 20, 10, 30, 40, 20, 50, 60, 30, 50]\n",
    "print(len(stocks))\n",
    "print(len(amounts))\n",
    "values = [si.get_live_price(stocks[i])*amounts[i] for i in range(len(stocks))]\n",
    "sectors = [yf.Ticker(x).get_info()['industry'] for x in stocks ]\n",
    "countries = [yf.Ticker(x).get_info()['country'] for x in stocks]\n",
    "market_caps = [yf.Ticker(x).get_info()['marketCap'] for x in stocks]\n",
    "\n",
    "print(values)\n"
   ]
  },
  {
   "cell_type": "code",
   "execution_count": 25,
   "id": "53f0844e",
   "metadata": {},
   "outputs": [
    {
     "ename": "NameError",
     "evalue": "name 'values' is not defined",
     "output_type": "error",
     "traceback": [
      "\u001b[1;31m---------------------------------------------------------------------------\u001b[0m",
      "\u001b[1;31mNameError\u001b[0m                                 Traceback (most recent call last)",
      "\u001b[1;32m<ipython-input-25-0c3f02a6717a>\u001b[0m in \u001b[0;36m<module>\u001b[1;34m\u001b[0m\n\u001b[0;32m     13\u001b[0m \u001b[1;33m\u001b[0m\u001b[0m\n\u001b[0;32m     14\u001b[0m \u001b[1;33m\u001b[0m\u001b[0m\n\u001b[1;32m---> 15\u001b[1;33m \u001b[0mgeneral_dist\u001b[0m \u001b[1;33m=\u001b[0m\u001b[1;33m{\u001b[0m\u001b[1;34m'Stocks'\u001b[0m \u001b[1;33m:\u001b[0m \u001b[0msum\u001b[0m\u001b[1;33m(\u001b[0m\u001b[0mvalues\u001b[0m\u001b[1;33m)\u001b[0m\u001b[1;33m,\u001b[0m \u001b[1;34m'ETFs'\u001b[0m \u001b[1;33m:\u001b[0m \u001b[0msum\u001b[0m\u001b[1;33m(\u001b[0m\u001b[0metf_values\u001b[0m\u001b[1;33m)\u001b[0m\u001b[1;33m,\u001b[0m \u001b[1;34m'cryptos'\u001b[0m\u001b[1;33m:\u001b[0m \u001b[0msum\u001b[0m\u001b[1;33m(\u001b[0m\u001b[0mcrypto_values\u001b[0m\u001b[1;33m)\u001b[0m\u001b[1;33m,\u001b[0m \u001b[1;34m'cash'\u001b[0m\u001b[1;33m:\u001b[0m\u001b[0mcash\u001b[0m\u001b[1;33m}\u001b[0m\u001b[1;33m\u001b[0m\u001b[1;33m\u001b[0m\u001b[0m\n\u001b[0m\u001b[0;32m     16\u001b[0m \u001b[0msector_dist\u001b[0m\u001b[1;33m=\u001b[0m\u001b[1;33m{\u001b[0m\u001b[1;33m}\u001b[0m\u001b[1;33m\u001b[0m\u001b[1;33m\u001b[0m\u001b[0m\n\u001b[0;32m     17\u001b[0m \u001b[1;32mfor\u001b[0m \u001b[0mi\u001b[0m \u001b[1;32min\u001b[0m \u001b[0mrange\u001b[0m \u001b[1;33m(\u001b[0m\u001b[0mlen\u001b[0m\u001b[1;33m(\u001b[0m\u001b[0msectors\u001b[0m\u001b[1;33m)\u001b[0m\u001b[1;33m)\u001b[0m\u001b[1;33m:\u001b[0m\u001b[1;33m\u001b[0m\u001b[1;33m\u001b[0m\u001b[0m\n",
      "\u001b[1;31mNameError\u001b[0m: name 'values' is not defined"
     ]
    }
   ],
   "source": [
    "# initialize cash we have\n",
    "cash = 40000\n",
    "\n",
    "#initializing etfs\n",
    "etfs = ['IVV', 'XWD.TO']\n",
    "etf_amounts = [30, 20]\n",
    "etf_values = [si.get_live_price(etfs[i])*etf_amounts[i] for i in range(len(etfs))]\n",
    "\n",
    "#initializing cryptos\n",
    "cryptos = ['ETH-USD', 'BTC-USD']\n",
    "crypto_amounts = [0.89,0.34]\n",
    "crypto_values = [si.get_live_price(cryptos[i])*crypto_amounts[i] for i in range(len(cryptos))]\n",
    "\n",
    "\n",
    "general_dist ={'Stocks' : sum(values), 'ETFs' : sum(etf_values), 'cryptos': sum(crypto_values), 'cash':cash}\n",
    "sector_dist={}\n",
    "for i in range (len(sectors)):\n",
    "    if sectors[i] not in sector_dist.keys():\n",
    "        sector_dist[sectors[i]]=0\n",
    "        \n",
    "    sector_dist[sectors[i]] += values[i]\n",
    "\n",
    "country_dist = {}\n",
    "for i in range (len(countries)):\n",
    "    if countries[i] not in country_dist.keys():\n",
    "        country_dist[countries[i]]=0\n",
    "    country_dist[countries[i]]  += values[i]\n",
    "        \n",
    "        \n",
    "market_cap_dist = {'small':0.0, 'mid':0.0, 'large':0.0, 'huge':0.0}     \n",
    "\n",
    "for i in range(len(stocks)):\n",
    "    if market_caps[i] < 2000000000:\n",
    "        market_cap_dist['small'] += values[i]\n",
    "        \n",
    "    elif market_caps[i] < 1000000000:\n",
    "        market_cap_dist['mid'] += values[i]\n",
    "    \n",
    "    elif market_caps[i] < 10000000000:\n",
    "        market_cap_dist['large'] += values[i]\n",
    "    \n",
    "    else:\n",
    "        market_cap_dist['huge'] += values[i]"
   ]
  },
  {
   "cell_type": "code",
   "execution_count": null,
   "id": "dc298881",
   "metadata": {},
   "outputs": [],
   "source": [
    "print(yf.Ticker(\"APPL\").get_info())"
   ]
  },
  {
   "cell_type": "code",
   "execution_count": null,
   "id": "de99c3ce",
   "metadata": {},
   "outputs": [],
   "source": [
    "fig, axs = plt.subplots(2,2)\n",
    "fig.subtitle(\"Portfolio Diversification Analysis\", frontsize = 18)\n",
    "\n",
    "axs[0,0].pie(general_dist.values(), labels = general_dist.keys(), autopct = \"%1.1f%%\", pctdistance = 0.8, colors = mcolors.TABLEAU_COLORS)\n",
    "axs[0,0].set_title(\"General Distribution\")\n",
    "\n",
    "axs[0,1].pie(sector_dist.values(), labels = sector_dist.keys(), autopct = \"%1.1f%%\", pctdistance = 0.8, colors = mcolors.TABLEAU_COLORS)\n",
    "axs[0,1].set_title(\"Stocks By Industry\")\n",
    "\n",
    "axs[1,0].pie(country_dist.values(), labels = country_dist.keys(), autopct = \"%1.1f%%\", pctdistance = 0.8, colors = mcolors.TABLEAU_COLORS)\n",
    "axs[1,0].set_title(\"Stocks By Country\")\n",
    "\n",
    "axs[1,1].pie(market_cap_dist.values(), labels = market_cap_dist.keys(), autopct = \"%1.1f%%\", pctdistance = 0.8, colors = mcolors.TABLEAU_COLORS)\n",
    "axs[1,1].set_title(\"Stocks By Market Cap\") \n",
    "\n",
    "plt.show()"
   ]
  },
  {
   "cell_type": "code",
   "execution_count": null,
   "id": "0ad61eed",
   "metadata": {},
   "outputs": [],
   "source": []
  },
  {
   "cell_type": "code",
   "execution_count": null,
   "id": "be0b5388",
   "metadata": {},
   "outputs": [],
   "source": []
  },
  {
   "cell_type": "code",
   "execution_count": null,
   "id": "26dfcff6",
   "metadata": {},
   "outputs": [],
   "source": []
  },
  {
   "cell_type": "code",
   "execution_count": null,
   "id": "fdad59e3",
   "metadata": {},
   "outputs": [],
   "source": []
  },
  {
   "cell_type": "code",
   "execution_count": null,
   "id": "ad864f15",
   "metadata": {},
   "outputs": [],
   "source": []
  },
  {
   "cell_type": "code",
   "execution_count": null,
   "id": "ee391e60",
   "metadata": {},
   "outputs": [],
   "source": []
  },
  {
   "cell_type": "code",
   "execution_count": null,
   "id": "3ce51b10",
   "metadata": {},
   "outputs": [],
   "source": []
  },
  {
   "cell_type": "code",
   "execution_count": null,
   "id": "cab3ef56",
   "metadata": {},
   "outputs": [],
   "source": []
  }
 ],
 "metadata": {
  "kernelspec": {
   "display_name": "Python 3",
   "language": "python",
   "name": "python3"
  },
  "language_info": {
   "codemirror_mode": {
    "name": "ipython",
    "version": 3
   },
   "file_extension": ".py",
   "mimetype": "text/x-python",
   "name": "python",
   "nbconvert_exporter": "python",
   "pygments_lexer": "ipython3",
   "version": "3.8.8"
  }
 },
 "nbformat": 4,
 "nbformat_minor": 5
}
